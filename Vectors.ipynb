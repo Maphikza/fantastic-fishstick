{
 "cells": [
  {
   "cell_type": "markdown",
   "id": "79299050-2b19-46c9-88bb-495a13a5ff27",
   "metadata": {},
   "source": [
    "### Creating vectors using dunder methods."
   ]
  },
  {
   "cell_type": "code",
   "execution_count": 1,
   "id": "ebca23b6-803f-4e05-a106-0e9895217c36",
   "metadata": {},
   "outputs": [],
   "source": [
    "import math"
   ]
  },
  {
   "cell_type": "code",
   "execution_count": 2,
   "id": "cb96563f-a08c-45f6-94b7-f526545fe167",
   "metadata": {},
   "outputs": [],
   "source": [
    "class Vector:\n",
    "    \n",
    "    def __init__(self, num_one, num_two):\n",
    "        self.pos_one = num_one\n",
    "        self.pos_two = num_two\n",
    "    \n",
    "    def __add__(self, other):\n",
    "        return Vector(self.pos_one  + other.pos_one, self.pos_two + other.pos_two)\n",
    "    \n",
    "    def __mul__(self, other):\n",
    "        return Vector(self.pos_one * other, self.pos_two * other)\n",
    "    \n",
    "    def __abs__(self):\n",
    "        return math.sqrt(self.pos_one**2 + self.pos_two**2)\n",
    "    \n",
    "    def __repr__(self):\n",
    "        return f\"Vector{self.pos_one, self.pos_two}\""
   ]
  },
  {
   "cell_type": "code",
   "execution_count": 3,
   "id": "7545ba33-4f22-4838-9113-0031db923b35",
   "metadata": {},
   "outputs": [],
   "source": [
    "v1 = Vector(2, 4)\n",
    "v2 = Vector(3, 4)"
   ]
  },
  {
   "cell_type": "code",
   "execution_count": 4,
   "id": "036b70a1-8e05-4586-b408-c2a9dfb69897",
   "metadata": {},
   "outputs": [
    {
     "data": {
      "text/plain": [
       "Vector(2, 4)"
      ]
     },
     "execution_count": 4,
     "metadata": {},
     "output_type": "execute_result"
    }
   ],
   "source": [
    "v1"
   ]
  },
  {
   "cell_type": "code",
   "execution_count": 5,
   "id": "956ce814-da09-40c7-b0e1-3b6db4e3aa19",
   "metadata": {},
   "outputs": [
    {
     "data": {
      "text/plain": [
       "Vector(3, 4)"
      ]
     },
     "execution_count": 5,
     "metadata": {},
     "output_type": "execute_result"
    }
   ],
   "source": [
    "v2"
   ]
  },
  {
   "cell_type": "code",
   "execution_count": 8,
   "id": "a6761eae-e6b6-4d91-b9f5-96bfa45747fd",
   "metadata": {},
   "outputs": [
    {
     "data": {
      "text/plain": [
       "Vector(6, 12)"
      ]
     },
     "execution_count": 8,
     "metadata": {},
     "output_type": "execute_result"
    }
   ],
   "source": [
    "v1 * 3"
   ]
  },
  {
   "cell_type": "code",
   "execution_count": 9,
   "id": "88e7085e-5b55-4b86-bdcd-9a147c67ed9e",
   "metadata": {},
   "outputs": [
    {
     "data": {
      "text/plain": [
       "Vector(5, 8)"
      ]
     },
     "execution_count": 9,
     "metadata": {},
     "output_type": "execute_result"
    }
   ],
   "source": [
    "v1 + v2"
   ]
  },
  {
   "cell_type": "code",
   "execution_count": 10,
   "id": "94eeb535-3fde-4aee-9b2c-67518796e6f3",
   "metadata": {},
   "outputs": [
    {
     "data": {
      "text/plain": [
       "5.0"
      ]
     },
     "execution_count": 10,
     "metadata": {},
     "output_type": "execute_result"
    }
   ],
   "source": [
    "abs(v2)"
   ]
  },
  {
   "cell_type": "code",
   "execution_count": 11,
   "id": "480544f1-c2ed-40f3-9cd3-0e4416004e8c",
   "metadata": {},
   "outputs": [
    {
     "data": {
      "text/plain": [
       "15.0"
      ]
     },
     "execution_count": 11,
     "metadata": {},
     "output_type": "execute_result"
    }
   ],
   "source": [
    "abs(v2 * 3)"
   ]
  },
  {
   "cell_type": "code",
   "execution_count": null,
   "id": "2c6af0e1-fdab-455a-9ff1-cf42b61a0357",
   "metadata": {},
   "outputs": [],
   "source": []
  }
 ],
 "metadata": {
  "kernelspec": {
   "display_name": "Python 3 (ipykernel)",
   "language": "python",
   "name": "python3"
  },
  "language_info": {
   "codemirror_mode": {
    "name": "ipython",
    "version": 3
   },
   "file_extension": ".py",
   "mimetype": "text/x-python",
   "name": "python",
   "nbconvert_exporter": "python",
   "pygments_lexer": "ipython3",
   "version": "3.10.1"
  }
 },
 "nbformat": 4,
 "nbformat_minor": 5
}
